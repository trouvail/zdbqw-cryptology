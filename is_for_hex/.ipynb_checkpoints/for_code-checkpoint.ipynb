{
 "cells": [
  {
   "cell_type": "code",
   "execution_count": 26,
   "id": "9032c9a4-4ca9-4dce-abdb-120e900ae796",
   "metadata": {},
   "outputs": [],
   "source": [
    "a = 'ac'\n",
    "b = 'dd'"
   ]
  },
  {
   "cell_type": "code",
   "execution_count": 16,
   "id": "cd7fb408-809b-40f2-a6e7-26f5bcbb2b3c",
   "metadata": {},
   "outputs": [],
   "source": [
    "def hex_to_bin(a):\n",
    "    h = ''\n",
    "    l = ''\n",
    "    if a[0] == '0':\n",
    "        h = '0000'\n",
    "    elif a[0] == '1':\n",
    "        h = '0001'\n",
    "    elif a[0] == '2':\n",
    "        h = '0010'\n",
    "    elif a[0] == '3':\n",
    "        h = '0011'\n",
    "    elif a[0] == '4':\n",
    "        h = '0100'\n",
    "    elif a[0] == '5':\n",
    "        h = '0101'\n",
    "    elif a[0] == '6':\n",
    "        h = '0110'\n",
    "    elif a[0] == '7':\n",
    "        h = '0111'\n",
    "    elif a[0] == '8':\n",
    "        h = '1000'\n",
    "    elif a[0] == '9':\n",
    "        h = '1001'\n",
    "    elif a[0] == 'a':\n",
    "        h = '1010'\n",
    "    elif a[0] == 'b':\n",
    "        h = '1011'\n",
    "    elif a[0] == 'c':\n",
    "        h = '1100'\n",
    "    elif a[0] == 'd':\n",
    "        h = '1101'\n",
    "    elif a[0] == 'e':\n",
    "        h = '1110'\n",
    "    elif a[0] == 'f':\n",
    "        h = '1111'\n",
    "    \n",
    "    if a[1] == '0':\n",
    "        l = '0000'\n",
    "    elif a[1] == '1':\n",
    "        l = '0001'\n",
    "    elif a[1] == '2':\n",
    "        l = '0010'\n",
    "    elif a[1] == '3':\n",
    "        l = '0011'\n",
    "    elif a[1] == '4':\n",
    "        l = '0100'\n",
    "    elif a[1] == '5':\n",
    "        l = '0101'\n",
    "    elif a[1] == '6':\n",
    "        l = '0110'\n",
    "    elif a[1] == '7':\n",
    "        l = '0111'\n",
    "    elif a[1] == '8':\n",
    "        l = '1000'\n",
    "    elif a[1] == '9':\n",
    "        l = '1001'\n",
    "    elif a[1] == 'a':\n",
    "        l = '1010'\n",
    "    elif a[1] == 'b':\n",
    "        l = '1011'\n",
    "    elif a[1] == 'c':\n",
    "        l = '1100'\n",
    "    elif a[1] == 'd':\n",
    "        l = '1101'\n",
    "    elif a[1] == 'e':\n",
    "        l = '1110'\n",
    "    elif a[1] == 'f':\n",
    "        l = '1111'\n",
    "    \n",
    "    end = h + l\n",
    "    return end"
   ]
  },
  {
   "cell_type": "code",
   "execution_count": 17,
   "id": "44f20af8-8b3e-402f-9f26-8648413d9a7c",
   "metadata": {},
   "outputs": [
    {
     "name": "stdout",
     "output_type": "stream",
     "text": [
      "10101100\n"
     ]
    }
   ],
   "source": [
    "print(hex_to_bin('ac'))"
   ]
  },
  {
   "cell_type": "code",
   "execution_count": 18,
   "id": "5d3e31a6-10d4-4009-b7db-73a338920337",
   "metadata": {},
   "outputs": [],
   "source": [
    "a = hex_to_bin(a)\n",
    "b = hex_to_bin(b)"
   ]
  },
  {
   "cell_type": "code",
   "execution_count": 21,
   "id": "042c3a02-3b04-4c4c-8a53-b88fd085c1fc",
   "metadata": {},
   "outputs": [
    {
     "name": "stdout",
     "output_type": "stream",
     "text": [
      "10101100\n",
      "11011101\n"
     ]
    }
   ],
   "source": [
    "print(a)\n",
    "print(b)"
   ]
  },
  {
   "cell_type": "code",
   "execution_count": 22,
   "id": "e8b10d3f-7c9e-4005-b159-7dd0857bcefa",
   "metadata": {},
   "outputs": [],
   "source": [
    "def n_add(a, b):\n",
    "    end = ''\n",
    "    if a == '0' and b == '0':\n",
    "        end = '0'\n",
    "    elif a == '1' and b == '1':\n",
    "        end = '0'\n",
    "    else:\n",
    "        end = '1'\n",
    "    return end"
   ]
  },
  {
   "cell_type": "code",
   "execution_count": 23,
   "id": "c65a051e-fabb-44f7-9189-960e3b60966e",
   "metadata": {},
   "outputs": [
    {
     "name": "stdout",
     "output_type": "stream",
     "text": [
      "0\n",
      "1\n",
      "1\n",
      "0\n"
     ]
    }
   ],
   "source": [
    "print(n_add('0', '0'))\n",
    "print(n_add('1', '0'))\n",
    "print(n_add('0', '1'))\n",
    "print(n_add('1', '1'))"
   ]
  },
  {
   "cell_type": "code",
   "execution_count": 35,
   "id": "a30f08d6-cc68-4d05-8561-19db3ddbf4c6",
   "metadata": {},
   "outputs": [],
   "source": [
    "def add_hex_two(aw, bw):\n",
    "    a = hex_to_bin(aw)\n",
    "    b = hex_to_bin(bw)\n",
    "    end = ''\n",
    "    end += n_add(a[0], b[0])\n",
    "    end += n_add(a[1], b[1])\n",
    "    end += n_add(a[2], b[2])\n",
    "    end += n_add(a[3], b[3])\n",
    "    end += n_add(a[4], b[4])\n",
    "    end += n_add(a[5], b[5])\n",
    "    end += n_add(a[6], b[6])\n",
    "    end += n_add(a[7], b[7])\n",
    "    return end"
   ]
  },
  {
   "cell_type": "code",
   "execution_count": 36,
   "id": "7ec1ecd4-df04-4f27-b640-73fb9d9ca5b5",
   "metadata": {},
   "outputs": [],
   "source": [
    "def add_bin(a, b):\n",
    "    end = ''\n",
    "    end += n_add(a[0], b[0])\n",
    "    end += n_add(a[1], b[1])\n",
    "    end += n_add(a[2], b[2])\n",
    "    end += n_add(a[3], b[3])\n",
    "    end += n_add(a[4], b[4])\n",
    "    end += n_add(a[5], b[5])\n",
    "    end += n_add(a[6], b[6])\n",
    "    end += n_add(a[7], b[7])\n",
    "    return end"
   ]
  },
  {
   "cell_type": "code",
   "execution_count": 37,
   "id": "b7062f77-9eb8-4fca-a7db-6605ff89fac2",
   "metadata": {},
   "outputs": [
    {
     "name": "stdout",
     "output_type": "stream",
     "text": [
      "01110001\n"
     ]
    }
   ],
   "source": [
    "print(add_hex_two(a, b))"
   ]
  },
  {
   "cell_type": "code",
   "execution_count": 40,
   "id": "86df7677-0340-4abd-977a-c4acc7050880",
   "metadata": {},
   "outputs": [],
   "source": [
    "def add_hex_four(a, b, c, d):\n",
    "    h = add_hex_two(a, b)\n",
    "    \n",
    "    l = add_hex_two(c, d)\n",
    "    \n",
    "    end = add_bin(h, l)\n",
    "    \n",
    "    return end"
   ]
  },
  {
   "cell_type": "code",
   "execution_count": 41,
   "id": "39e66d63-fe41-4a2d-995e-5867468e1a47",
   "metadata": {},
   "outputs": [
    {
     "name": "stdout",
     "output_type": "stream",
     "text": [
      "00000000\n"
     ]
    }
   ],
   "source": [
    "print(add_hex_four(a, b, a, b))"
   ]
  },
  {
   "cell_type": "code",
   "execution_count": null,
   "id": "f5805565-dae5-4aa8-802f-77d7f141b2e5",
   "metadata": {},
   "outputs": [],
   "source": [
    "a3 = '1b'\n",
    "a2 = '03'\n",
    "a1 = 'dd'\n",
    "a0 = 'a1'\n",
    "b3 = 'ac'\n",
    "b2 = '00'\n",
    "b1 = 'f0'\n",
    "b0 = '2d'"
   ]
  }
 ],
 "metadata": {
  "kernelspec": {
   "display_name": "Python 3 (ipykernel)",
   "language": "python",
   "name": "python3"
  },
  "language_info": {
   "codemirror_mode": {
    "name": "ipython",
    "version": 3
   },
   "file_extension": ".py",
   "mimetype": "text/x-python",
   "name": "python",
   "nbconvert_exporter": "python",
   "pygments_lexer": "ipython3",
   "version": "3.8.13"
  }
 },
 "nbformat": 4,
 "nbformat_minor": 5
}
